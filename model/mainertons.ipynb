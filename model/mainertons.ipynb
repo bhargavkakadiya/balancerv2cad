{
 "cells": [
  {
   "cell_type": "code",
   "execution_count": 2,
   "id": "induced-rebound",
   "metadata": {},
   "outputs": [],
   "source": [
    "from StableMath import StableMath\n",
    "from util import *"
   ]
  },
  {
   "cell_type": "code",
   "execution_count": 4,
   "id": "dress-municipality",
   "metadata": {},
   "outputs": [],
   "source": [
    "def calcBptInGivenExactTokensOut(amplificationParameter: int, balances: list, amountsOut: list, bptTotalSupply: int, swapFee: int) -> int:\n",
    "    \"\"\"\n",
    "    >>> t = StableMath()\n",
    "    >>> t.calcBptInGivenExactTokensOut(2,[222,3112,311],[11,22,310],2,4) == 2\n",
    "    True\n",
    "    \"\"\"\n",
    "\n",
    "    # get current invariant\n",
    "    currentInvariants = StableMath.calculateInvariant(amplificationParameter, balances)\n",
    "\n",
    "    # calculate the sum of all token balances\n",
    "    sumBalances = Decimal(0)\n",
    "    for i in range(len(balances)):\n",
    "        sumBalances += balances[i]\n",
    "\n",
    "    # calculating the weighted balance ratio without considering fees\n",
    "    tokenBalanceRatiosWithoutFee = [None] * len(balances)\n",
    "    weightedBalanceRatio = Decimal(0)\n",
    "\n",
    "    getcontext().prec = 18\n",
    "    for i in range(len(balances)):\n",
    "        currentWeight = divUp(balances[i], sumBalances)\n",
    "        tokenBalanceRatiosWithoutFee[i] = balances[i] - divUp(amountsOut[i], balances[i])\n",
    "        weightedBalanceRatio = weightedBalanceRatio + mulUp(tokenBalanceRatiosWithoutFee[i], currentWeight)\n",
    "\n",
    "    # second loop calculates new amounts in, taking into account\n",
    "    # the fee on the percentage excess\n",
    "    newBalances = []\n",
    "    for i in range(len(balances)):\n",
    "        tokenBalancePercentageExcess = 0\n",
    "        if weightedBalanceRatio <= tokenBalanceRatiosWithoutFee[i]:\n",
    "            tokenBalancePercentageExcess = 0\n",
    "        else:\n",
    "            tokenBalancePercentageExcess = weightedBalanceRatio - Decimal(divUp(tokenBalanceRatiosWithoutFee[i], complement(tokenBalanceRatiosWithoutFee[i])))\n",
    "\n",
    "        swapFeeExcess = mulUp(swapFee, tokenBalancePercentageExcess)\n",
    "        amountOutBeforeFee = Decimal(divUp(amountsOut[i], complement(swapFeeExcess)))\n",
    "        newBalances[i] = balances[i] - amountOutBeforeFee\n",
    "\n",
    "    # get the new invariant, taking into account swap fees\n",
    "    newInvariant = calculateInvariant(amplificationParameter, newBalances)\n",
    "\n",
    "    # return amountBPTIn\n",
    "    return bptTotalSupply * Decimal(divUp(newInvariant, complement(currentInvariants)))\n"
   ]
  },
  {
   "cell_type": "code",
   "execution_count": 5,
   "id": "biological-poultry",
   "metadata": {},
   "outputs": [
    {
     "data": {
      "text/plain": [
       "0"
      ]
     },
     "execution_count": 5,
     "metadata": {},
     "output_type": "execute_result"
    }
   ],
   "source": [
    "StableMath.calcBptInGivenExactTokensOut(\n",
    "    Decimal(2),\n",
    "    [Decimal(222),Decimal(3112),Decimal(311)],\n",
    "    [Decimal(11),Decimal(22),Decimal(310)],\n",
    "    Decimal(2),Decimal(4)\n",
    "    ) #is supposed to be 2 "
   ]
  },
  {
   "cell_type": "code",
   "execution_count": null,
   "id": "difficult-movie",
   "metadata": {},
   "outputs": [],
   "source": []
  }
 ],
 "metadata": {
  "kernelspec": {
   "display_name": "Python 3.9 (XPython)",
   "language": "python",
   "name": "xpython"
  },
  "language_info": {
   "file_extension": ".py",
   "mimetype": "text/x-python",
   "name": "python",
   "version": "3.9.2"
  }
 },
 "nbformat": 4,
 "nbformat_minor": 5
}
