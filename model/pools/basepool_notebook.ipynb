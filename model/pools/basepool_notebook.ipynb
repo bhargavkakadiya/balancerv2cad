{
 "metadata": {
  "language_info": {
   "codemirror_mode": {
    "name": "ipython",
    "version": 3
   },
   "file_extension": ".py",
   "mimetype": "text/x-python",
   "name": "python",
   "nbconvert_exporter": "python",
   "pygments_lexer": "ipython3",
   "version": "3.9.5"
  },
  "orig_nbformat": 2,
  "kernelspec": {
   "name": "python395jvsc74a57bd0ac2eaa0ea0ebeafcc7822e65e46aa9d4f966f30b695406963e145ea4a91cd4fc",
   "display_name": "Python 3.9.5 64-bit ('python@3.9')"
  },
  "metadata": {
   "interpreter": {
    "hash": "ac2eaa0ea0ebeafcc7822e65e46aa9d4f966f30b695406963e145ea4a91cd4fc"
   }
  }
 },
 "nbformat": 4,
 "nbformat_minor": 2,
 "cells": [
  {
   "cell_type": "code",
   "execution_count": 1,
   "metadata": {},
   "outputs": [],
   "source": [
    "from decimal import Decimal"
   ]
  },
  {
   "cell_type": "code",
   "execution_count": 2,
   "metadata": {},
   "outputs": [
    {
     "output_type": "error",
     "ename": "IndentationError",
     "evalue": "expected an indented block (<ipython-input-2-eac2a79449de>, line 24)",
     "traceback": [
      "\u001b[0;36m  File \u001b[0;32m\"<ipython-input-2-eac2a79449de>\"\u001b[0;36m, line \u001b[0;32m24\u001b[0m\n\u001b[0;31m    def set_swap_fee_percentage(swap_fee_percentage: Decimal):\u001b[0m\n\u001b[0m                                                              ^\u001b[0m\n\u001b[0;31mIndentationError\u001b[0m\u001b[0;31m:\u001b[0m expected an indented block\n"
     ]
    }
   ],
   "source": [
    "class BasePool:\n",
    "\n",
    "    def __init__(self, vault: object, name: str, symbol: str, tokens: list, swap_fee_percentage: Decimal, owner_id: int):\n",
    "        self.vault = vault\n",
    "        self.name = name\n",
    "        self.symbol = symbol\n",
    "        self.tokens = tokens.sort()\n",
    "        self.swap_fee_percentage = swap_fee_percentage\n",
    "        self.owner_id = owner_id\n",
    "        self.poolId = None #vault.registerPool(specialization)\n",
    "\n",
    "    def get_vault(self) -> object:\n",
    "        return self.vault\n",
    "    \n",
    "    def get_pool_id(self) -> int:\n",
    "        return self.poolId\n",
    "        \n",
    "    def get_total_tokens(self) -> int:\n",
    "        return len(self.tokens)\n",
    "    \n",
    "    def get_swap_fee_percentage(self) -> Decimal:\n",
    "        return self.swapFeePercentage\n",
    "\n",
    "    def set_swap_fee_percentage(self, swap_fee_percentage: Decimal):\n",
    "        self.swap_fee_percentage = swap_fee_percentage\n"
   ]
  },
  {
   "cell_type": "code",
   "execution_count": null,
   "metadata": {},
   "outputs": [],
   "source": []
  }
 ]
}