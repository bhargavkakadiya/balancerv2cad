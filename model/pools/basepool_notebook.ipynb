{
 "metadata": {
  "language_info": {
   "codemirror_mode": {
    "name": "ipython",
    "version": 3
   },
   "file_extension": ".py",
   "mimetype": "text/x-python",
   "name": "python",
   "nbconvert_exporter": "python",
   "pygments_lexer": "ipython3",
   "version": "3.9.5"
  },
  "orig_nbformat": 2,
  "kernelspec": {
   "name": "python395jvsc74a57bd0ac2eaa0ea0ebeafcc7822e65e46aa9d4f966f30b695406963e145ea4a91cd4fc",
   "display_name": "Python 3.9.5 64-bit ('python@3.9')"
  },
  "metadata": {
   "interpreter": {
    "hash": "ac2eaa0ea0ebeafcc7822e65e46aa9d4f966f30b695406963e145ea4a91cd4fc"
   }
  }
 },
 "nbformat": 4,
 "nbformat_minor": 2,
 "cells": [
  {
   "cell_type": "code",
   "execution_count": 9,
   "metadata": {},
   "outputs": [],
   "source": [
    "from decimal import Decimal"
   ]
  },
  {
   "cell_type": "code",
   "execution_count": 10,
   "metadata": {},
   "outputs": [],
   "source": [
    "class BalancerPoolToken:\n",
    "\n",
    "    def __init__(self, name: str, symbol: str):\n",
    "        self.name = name\n",
    "        self.symbol = symbol\n",
    "        self.balances = {}\n",
    "\n",
    "    def name(self):\n",
    "        return self.name\n",
    "\n",
    "    def symbol(self):\n",
    "        return self.symbol\n",
    "\n",
    "    def total_supply(self):\n",
    "        return sum(self.balances)\n",
    "\n",
    "    def mint_pool_tokens(self, user_id: int, amount: Decimal):\n",
    "        if(self.balances[user_id] is None): self.balances[user_id] = 0\n",
    "        self.balances[user_id] =  self.balances[user_id] + amount\n",
    "\n",
    "    def burn_pool_tokens(self, user_id: int, amount: Decimal):\n",
    "        if(self.balances[user_id] is None): self.balances[user_id] = 0\n",
    "        ret = self.balances[user_id] - amount\n",
    "        if(ret<0): ret = 0\n",
    "        self.balances[user_id] = ret\n",
    "\n",
    "    def transfer(self, sender_id: int, recipent_id: int, amount):\n",
    "        if(self.balances[sender_id] is None): self.balances[sender_id] = 0\n",
    "        if(self.balances[recipent_id] is None): self.balances[recipent_id] = 0\n",
    "        if(amount>self.balances[sender_id]): amount = self.balances[sender_id] #TODO maybe replace with assert\n",
    "        self.balances[sender_id] -= amount\n",
    "        self.balances[recipent_id] += amount\n"
   ]
  },
  {
   "cell_type": "code",
   "execution_count": 11,
   "metadata": {},
   "outputs": [],
   "source": [
    "class BasePool:\n",
    "\n",
    "    def __init__(self, vault: object, name: str, symbol: str, tokens: list, swap_fee_percentage: Decimal, owner_id: int):\n",
    "        self.vault = vault\n",
    "        self.name = name\n",
    "        self.symbol = symbol\n",
    "        self.tokens = tokens.sort()\n",
    "        self.swap_fee_percentage = swap_fee_percentage\n",
    "        self.owner_id = owner_id\n",
    "        self.poolId = None #vault.registerPool(specialization)\n",
    "        self.paused = False\n",
    "\n",
    "    def get_vault(self) -> object:\n",
    "        return self.vault\n",
    "    \n",
    "    def get_pool_id(self) -> int:\n",
    "        return self.poolId\n",
    "        \n",
    "    def get_total_tokens(self) -> int:\n",
    "        return len(self.tokens)\n",
    "    \n",
    "    def get_swap_fee_percentage(self) -> Decimal:\n",
    "        return self.swapFeePercentage\n",
    "\n",
    "    def set_swap_fee_percentage(self, swap_fee_percentage: Decimal):\n",
    "        self.swap_fee_percentage = swap_fee_percentage\n",
    "    \n",
    "    def set_paused(self):\n",
    "        self.paused = True\n",
    "\n",
    "    def on_join_pool(self):\n",
    "        #if totalSupply() = 0\n",
    "        ...\n",
    "    \n",
    "    def on_exit_pool(self):\n",
    "        ...\n",
    "    \n"
   ]
  },
  {
   "cell_type": "code",
   "execution_count": null,
   "metadata": {},
   "outputs": [],
   "source": []
  }
 ]
}