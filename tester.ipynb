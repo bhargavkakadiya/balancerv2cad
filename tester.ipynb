{
 "metadata": {
  "language_info": {
   "codemirror_mode": {
    "name": "ipython",
    "version": 3
   },
   "file_extension": ".py",
   "mimetype": "text/x-python",
   "name": "python",
   "nbconvert_exporter": "python",
   "pygments_lexer": "ipython3",
   "version": "3.9.4"
  },
  "orig_nbformat": 2,
  "kernelspec": {
   "name": "python394jvsc74a57bd05569d5474ddd96eda2ac2f48d3130f5c99d93a1e5ad411de90e6c4ca7cb3aa17",
   "display_name": "Python 3.9.4 64-bit ('cadcad')"
  }
 },
 "nbformat": 4,
 "nbformat_minor": 2,
 "cells": [
  {
   "cell_type": "code",
   "execution_count": 1,
   "metadata": {},
   "outputs": [],
   "source": [
    "from StableMath import StableMath\n",
    "from math import ceil"
   ]
  },
  {
   "cell_type": "code",
   "execution_count": 2,
   "metadata": {},
   "outputs": [
    {
     "output_type": "stream",
     "name": "stdout",
     "text": [
      "calculateInvariant True\ncalcBptInGivenExactTokensOut False | Result: 0 Expected: 2 diff-> 2\ngetTokenBalanceGivenInvariantAndAllOtherBalances False | Result: 0 Expected: 0.002573235526125192 diff-> 0.002573235526125192\n"
     ]
    }
   ],
   "source": [
    "stab = StableMath()\n",
    "stab.test()"
   ]
  },
  {
   "cell_type": "code",
   "execution_count": null,
   "metadata": {},
   "outputs": [],
   "source": []
  }
 ]
}