{
 "cells": [
  {
   "cell_type": "code",
   "execution_count": 1,
   "metadata": {},
   "outputs": [],
   "source": [
    "from decimal import Decimal\n",
    "from model.pools.stable.StableMath import StableMath\n",
    "from model.pools.weighted.WeightedMath import WeightedMath\n",
    "\n",
    "BONE = Decimal('1')\n",
    "MIN_FEE = Decimal('0.000001')\n",
    "MAX_FEE = Decimal('0.1')\n",
    "INIT_POOL_SUPPLY = BONE * Decimal('100')\n",
    "MIN_BOUND_TOKENS = 2\n",
    "MAX_BOUND_TOKENS = 8\n",
    "AMPLIFICATION_PARAMETER = Decimal('200')\n",
    "\n",
    "class BalancerPool:\n",
    "\n",
    "    def __init__(self, initial_pool_supply: Decimal = INIT_POOL_SUPPLY):\n",
    "        self._swap_fee = MIN_FEE\n",
    "        self.total_weight = Decimal('0')\n",
    "        self._pool_token_supply = initial_pool_supply\n",
    "        self.factory_fees = Decimal('0')\n",
    "        self._balances = {}\n",
    "        self._weights = {}\n",
    "\n",
    "    # single stable swap\n",
    "    def swap(self, token_in: str, token_out: str, amount: Decimal, given_in: bool = True):\n",
    "        if(isinstance(amount,int) or isinstance(amount,float)):\n",
    "            amount = Decimal(amount)\n",
    "        elif(not isinstance(amount, Decimal)):\n",
    "            raise Exception(\"INCORRECT_TYPE\")\n",
    "        factory_fee = amount*self._swap_fee\n",
    "        swap_amount = amount - factory_fee\n",
    "        self.factory_fees += factory_fee\n",
    "        balances = [self._balances[token_in], self._balances[token_out]]\n",
    "        amount_out = StableMath.calcOutGivenIn(AMPLIFICATION_PARAMETER, balances, 0, 1, swap_amount)\n",
    "        self._balances[token_out] -= amount_out\n",
    "        self._balances[token_in] += swap_amount\n",
    "        return amount_out\n",
    "\n",
    "    def weighted_swap(self, token_in: str, token_out: str, amount: Decimal, given_in: bool = True):\n",
    "        assert len(self._weights) == len(self._balances)\n",
    "        if(isinstance(amount,int) or isinstance(amount,float)):\n",
    "            amount = Decimal(amount)\n",
    "        elif(not isinstance(amount, Decimal)):\n",
    "            raise Exception(\"INCORRECT_TYPE\")\n",
    "        factory_fee = amount*self._swap_fee\n",
    "        swap_amount = amount - factory_fee\n",
    "        self.factory_fees += factory_fee\n",
    "        balances = [self._balances[token_in], self._balances[token_out]]\n",
    "        weights = [self._weights[token_in], self._weights[token_out]]\n",
    "        \n",
    "        amount_out = WeightedMath.calc_out_given_in(balances[0], weights[0], balances[1], weights[1], amount)\n",
    "        \n",
    "        self._balances[token_out] -= amount_out\n",
    "        self._balances[token_in] += swap_amount\n",
    "        return amount_out\n",
    "    \n",
    "    def join_pool(self, balances: dict, weights={}):\n",
    "        for key in weights:\n",
    "            if(not isinstance(weights[key],Decimal)):\n",
    "               weights[key] = Decimal(weights[key])\n",
    "            if(not isinstance(balances[key],Decimal)):\n",
    "               balances[key] = Decimal(balances[key])\n",
    "            \n",
    "        for key in balances:\n",
    "            if key in self._balances:\n",
    "                self._balances[key] += balances[key]\n",
    "            else:\n",
    "                self._balances.update({key:balances[key]})\n",
    "        if(len(weights)>0): self._weights = weights\n",
    "\n",
    "        if(len(self._balances)>8):\n",
    "            raise Exception(\"over 8 tokens\")\n",
    "    \n",
    "    def exit_pool(self, balances: dict):\n",
    "        bals = self._balances - balances\n",
    "        for key in bals:\n",
    "            if(bals[key]<0): bals[key] = 0\n",
    "        self._balances = bals\n",
    "         \n",
    "    def _mint_pool_share(self, amount: Decimal):\n",
    "        self._pool_token_supply += 1\n",
    "        \n",
    "    def _burn_pool_share(self, amount: Decimal):\n",
    "        self._pool_token_supply -= 1\n",
    "        \n",
    "    def set_swap_fee(self, amount: Decimal):\n",
    "        self._swap_fee = amount\n",
    "        \n",
    "\n",
    "    \n"
   ]
  },
  {
   "cell_type": "code",
   "execution_count": 2,
   "metadata": {},
   "outputs": [],
   "source": [
    "bp = BalancerPool()\n",
    "bp.join_pool({'UMA':1261.6668,'WETH':2.0343},{'UMA':0.8,'WETH':0.2})"
   ]
  },
  {
   "cell_type": "code",
   "execution_count": 3,
   "metadata": {},
   "outputs": [
    {
     "name": "stdout",
     "output_type": "stream",
     "text": [
      "here 4\n"
     ]
    },
    {
     "data": {
      "text/plain": [
       "Decimal('0.001289401645570866770459889383')"
      ]
     },
     "execution_count": 3,
     "metadata": {},
     "output_type": "execute_result"
    }
   ],
   "source": [
    "bp.weighted_swap('UMA','WETH',0.2)"
   ]
  },
  {
   "cell_type": "code",
   "execution_count": null,
   "metadata": {},
   "outputs": [],
   "source": []
  }
 ],
 "metadata": {
  "kernelspec": {
   "display_name": "Python 3",
   "language": "python",
   "name": "python3"
  },
  "language_info": {
   "codemirror_mode": {
    "name": "ipython",
    "version": 3
   },
   "file_extension": ".py",
   "mimetype": "text/x-python",
   "name": "python",
   "nbconvert_exporter": "python",
   "pygments_lexer": "ipython3",
   "version": "3.8.10"
  }
 },
 "nbformat": 4,
 "nbformat_minor": 4
}
